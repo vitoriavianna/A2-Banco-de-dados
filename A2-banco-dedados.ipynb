{
 "cells": [
  {
   "cell_type": "code",
   "execution_count": 3,
   "metadata": {},
   "outputs": [],
   "source": [
    "import sqlite3\n",
    "import os\n",
    "import pandas as pd\n",
    "import numpy as np\n",
    "import matplotlib.pyplot as plt\n",
    "import sqlalchemy \n",
    "import getpass\n",
    "import seaborn as sns\n",
    "import matplotlib.pyplot as plt\n",
    "import geopandas as gpd"
   ]
  },
  {
   "cell_type": "markdown",
   "metadata": {},
   "source": [
    "você pode ver [aqui](https://dados.gov.br/dataset/cgeo_vw_per_pessate1ano/resource/773f70e4-f8f1-4a1a-b09b-ac9aeaec0db6?inner_span=True) o site em que pegamos o arquivo .json com os dados"
   ]
  },
  {
   "cell_type": "markdown",
   "metadata": {},
   "source": [
    "selecionando apenas as colunas que nos interessam"
   ]
  },
  {
   "cell_type": "code",
   "execution_count": null,
   "metadata": {},
   "outputs": [],
   "source": [
    "filename = \"vw_per_pessate1ano.json\"\n",
    "file = open(filename)\n",
    "df = gpd.read_file(file)\n",
    "#gpd_pessoas1 = gpd.read_file(\"vw_per_pessate1ano.json\")\n",
    "print(type(gpd_pessoas1))\n",
    "gpd_pessoas1.head(2)"
   ]
  },
  {
   "cell_type": "code",
   "execution_count": null,
   "metadata": {},
   "outputs": [],
   "source": [
    "gpd_pessoas1 = gpd_pessoas1[['gid','UF','nome','Censo','POP_TOT','PESSate1ano','PER_PESSate1ano','classe','geom']]\n",
    "gpd_pessoas1.head(2)"
   ]
  },
  {
   "cell_type": "markdown",
   "metadata": {},
   "source": [
    "Transformando em dataframe pandas"
   ]
  },
  {
   "cell_type": "code",
   "execution_count": null,
   "metadata": {},
   "outputs": [],
   "source": [
    "pd_pessoas1 = pd.DataFrame(gpd_pessoas1)\n",
    "print(type(pd_pessoas1))"
   ]
  },
  {
   "cell_type": "code",
   "execution_count": null,
   "metadata": {},
   "outputs": [],
   "source": [
    "#transformando em string\n",
    "pd_pessoas1['geom']= pd_pessoas1['geom'].astype(str)"
   ]
  },
  {
   "cell_type": "code",
   "execution_count": 28,
   "metadata": {},
   "outputs": [],
   "source": [
    "conn = sqlite3.connect(os.path.join('bancoA2.db'))"
   ]
  },
  {
   "cell_type": "code",
   "execution_count": null,
   "metadata": {},
   "outputs": [],
   "source": [
    "cur = conn.cursor()\n",
    "cur.execute('''CREATE TABLE IF NOT EXISTS pessoas1\n",
    "             ('gid' INT PRIMARY KEY NOT NULL,\n",
    "             'UF' text,\n",
    "             'nome' text,\n",
    "             'Censo' FLOAT,\n",
    "             'POP_TOT' FLOAT,\n",
    "             'PESSate1ano' FLOAT,\n",
    "             'PER_PESSate1ano' FLOAT,\n",
    "             'classe' FLOAT,\n",
    "             'geom' text)''')\n",
    "conn.commit()\n",
    "\n",
    "#adicionando os dados na tabela criada\n",
    "pd_pessoas1.to_sql('pessoas1', con=conn, if_exists='replace')\n",
    "conn.commit()"
   ]
  },
  {
   "cell_type": "code",
   "execution_count": null,
   "metadata": {},
   "outputs": [],
   "source": [
    "#fechando a conexão\n",
    "conn.close()"
   ]
  },
  {
   "cell_type": "markdown",
   "metadata": {},
   "source": [
    "# Importando o banco"
   ]
  },
  {
   "cell_type": "code",
   "execution_count": null,
   "metadata": {},
   "outputs": [],
   "source": [
    "conn = sqlite3.connect(os.path.join('bancoA2.db'))\n",
    "query= \"SELECT * FROM pessoas1\"\n",
    "pessoas1_df = pd.read_sql(query,conn)\n",
    "pessoas1 = pessoas1_df.copy()\n",
    "pessoas1_df.head(2)"
   ]
  },
  {
   "cell_type": "code",
   "execution_count": null,
   "metadata": {},
   "outputs": [],
   "source": [
    "#fechar a conexão\n",
    "\n",
    "conn.close()"
   ]
  },
  {
   "cell_type": "markdown",
   "metadata": {},
   "source": [
    "# análise com geopandas"
   ]
  },
  {
   "cell_type": "code",
   "execution_count": null,
   "metadata": {},
   "outputs": [],
   "source": [
    "#tranformar para geodataframe\n",
    "\n",
    "pessoas1['geom']=gpd.GeoSeries.from_wkt(pib_df['geom'])\n",
    "pessoas1 = gpd.GeoDataFrame(pessoas1, geometry='geom')\n",
    "pessoas1.head(2)"
   ]
  },
  {
   "cell_type": "code",
   "execution_count": null,
   "metadata": {},
   "outputs": [],
   "source": [
    "merge['PER_PESSate1ano'] = merge['PER_PESSate1ano'].astype(float)\n",
    "merge['POP_TOT'] = merge['POP_TOT'].astype(float)\n",
    "merge['UF'] = merge['UF'].astype(str)"
   ]
  },
  {
   "cell_type": "code",
   "execution_count": null,
   "metadata": {},
   "outputs": [],
   "source": [
    "f = plt.figure(figsize=(12,5))\n",
    "\n",
    "ax=f.add_subplot(121)\n",
    "merge.plot(column='PER_PESSate1ano', cmap='hot_r', legend=True, edgecolor='black', linewidth=0.2, figsize=(15,8), ax=ax, legend_kwds={'label': \"Percentual de pessoas de até 1 ano de idade sem registro de nascimento \", 'shrink': 0.7})\n",
    "plt.title('Percentual de pessoas de até 1 ano de idade sem registro de nascimento  por município do Brasil') \n",
    "\n",
    "ax=f.add_subplot(122)\n",
    "merge.plot(column='POP_TOT', cmap='hot_r', legend=True, edgecolor='black', linewidth=0.2, figsize=(15,8), ax=ax, legend_kwds={'label': \"População\", 'shrink': 0.7})\n",
    "plt.title('População de cada município do Brasil')"
   ]
  },
  {
   "cell_type": "code",
   "execution_count": null,
   "metadata": {},
   "outputs": [],
   "source": [
    "merge[['PER_PESSate1ano', 'POP_TOT', 'PESSate1ano']].agg(['median', 'mean'])"
   ]
  },
  {
   "cell_type": "markdown",
   "metadata": {},
   "source": [
    "fazer a mesma coisa por região para melhor visualização"
   ]
  },
  {
   "cell_type": "code",
   "execution_count": null,
   "metadata": {},
   "outputs": [],
   "source": [
    "norte = merge[merge['UF'] == 'ACRE','AMAZONAS','RORAIMA','RONDÔNIA','PARÁ','AMAPÁ','TOCANTINS']\n",
    "nordeste = merge[merge['UF'] == 'MARANHÃO','PIAUÍ','BAHIA','CEARÁ','RIO GRANDE DO NORTE','PARAÍBA','PERNAMBUCO','ALAGOAS','SERGIPE']\n",
    "centrooeste = merge[merge['UF'] == 'MATO GROSSO','MATO GROSSO DO SUL','GOIÁS','DISTRITO FEDERAL']\n",
    "sudeste = merge[merge['UF'] == 'RIO DE JANEIRO','SÃO PAULO','MINAS GERAIS','ESPIRITO SANTO']\n",
    "sul = merge[merge['UF'] == 'PARANÁ','SANTA CATARINA','RIO GRANDE DO SUL']"
   ]
  },
  {
   "cell_type": "code",
   "execution_count": null,
   "metadata": {},
   "outputs": [],
   "source": [
    "f = plt.figure(figsize=(12,5))\n",
    "\n",
    "ax=f.add_subplot(121)\n",
    "norte.plot(column='PER_PESSate1ano', cmap='hot_r', legend=True, edgecolor='black', linewidth=0.2, figsize=(15,8), ax=ax, legend_kwds={'label': \"Percentual de pessoas de até 1 ano de idade sem registro de nascimento \", 'shrink': 0.7})\n",
    "plt.title('Percentual de pessoas de até 1 ano de idade sem registro de nascimento  por município do Brasil') "
   ]
  },
  {
   "cell_type": "code",
   "execution_count": null,
   "metadata": {},
   "outputs": [],
   "source": [
    "f = plt.figure(figsize=(12,5))\n",
    "\n",
    "ax=f.add_subplot(121)\n",
    "nordeste.plot(column='PER_PESSate1ano', cmap='hot_r', legend=True, edgecolor='black', linewidth=0.2, figsize=(15,8), ax=ax, legend_kwds={'label': \"Percentual de pessoas de até 1 ano de idade sem registro de nascimento \", 'shrink': 0.7})\n",
    "plt.title('Percentual de pessoas de até 1 ano de idade sem registro de nascimento  por município do Brasil') "
   ]
  },
  {
   "cell_type": "code",
   "execution_count": null,
   "metadata": {},
   "outputs": [],
   "source": [
    "f = plt.figure(figsize=(12,5))\n",
    "\n",
    "ax=f.add_subplot(121)\n",
    "centrooeste.plot(column='PER_PESSate1ano', cmap='hot_r', legend=True, edgecolor='black', linewidth=0.2, figsize=(15,8), ax=ax, legend_kwds={'label': \"Percentual de pessoas de até 1 ano de idade sem registro de nascimento \", 'shrink': 0.7})\n",
    "plt.title('Percentual de pessoas de até 1 ano de idade sem registro de nascimento  por município do Brasil') "
   ]
  },
  {
   "cell_type": "code",
   "execution_count": null,
   "metadata": {},
   "outputs": [],
   "source": [
    "f = plt.figure(figsize=(12,5))\n",
    "\n",
    "ax=f.add_subplot(121)\n",
    "sudeste.plot(column='PER_PESSate1ano', cmap='hot_r', legend=True, edgecolor='black', linewidth=0.2, figsize=(15,8), ax=ax, legend_kwds={'label': \"Percentual de pessoas de até 1 ano de idade sem registro de nascimento \", 'shrink': 0.7})\n",
    "plt.title('Percentual de pessoas de até 1 ano de idade sem registro de nascimento  por município do Brasil') "
   ]
  },
  {
   "cell_type": "code",
   "execution_count": null,
   "metadata": {},
   "outputs": [],
   "source": [
    "f = plt.figure(figsize=(12,5))\n",
    "\n",
    "ax=f.add_subplot(121)\n",
    "sul.plot(column='PER_PESSate1ano', cmap='hot_r', legend=True, edgecolor='black', linewidth=0.2, figsize=(15,8), ax=ax, legend_kwds={'label': \"Percentual de pessoas de até 1 ano de idade sem registro de nascimento \", 'shrink': 0.7})\n",
    "plt.title('Percentual de pessoas de até 1 ano de idade sem registro de nascimento  por município do Brasil') "
   ]
  },
  {
   "cell_type": "code",
   "execution_count": null,
   "metadata": {},
   "outputs": [],
   "source": []
  }
 ],
 "metadata": {
  "kernelspec": {
   "display_name": "Python 3",
   "language": "python",
   "name": "python3"
  },
  "language_info": {
   "codemirror_mode": {
    "name": "ipython",
    "version": 3
   },
   "file_extension": ".py",
   "mimetype": "text/x-python",
   "name": "python",
   "nbconvert_exporter": "python",
   "pygments_lexer": "ipython3",
   "version": "3.8.5"
  }
 },
 "nbformat": 4,
 "nbformat_minor": 4
}
